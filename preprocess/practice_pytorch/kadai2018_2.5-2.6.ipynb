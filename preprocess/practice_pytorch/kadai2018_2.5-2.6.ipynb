{
  "nbformat": 4,
  "nbformat_minor": 0,
  "metadata": {
    "colab": {
      "name": "kadai2018_04-12.ipynb",
      "version": "0.3.2",
      "views": {},
      "default_view": {},
      "provenance": [
        {
          "file_id": "147Q2mOLxTIIqblova29ZrPxNQdd4cKtQ",
          "timestamp": 1522657999492
        }
      ],
      "collapsed_sections": [],
      "toc_visible": true
    },
    "kernelspec": {
      "display_name": "Python 3",
      "language": "python",
      "name": "python3"
    },
    "accelerator": "GPU"
  },
  "cells": [
    {
      "metadata": {
        "id": "_EGpY0phIg0w",
        "colab_type": "text"
      },
      "cell_type": "markdown",
      "source": [
        "## 前準備"
      ]
    },
    {
      "metadata": {
        "id": "KfPhy2VUAUrn",
        "colab_type": "code",
        "colab": {
          "autoexec": {
            "startup": false,
            "wait_interval": 0
          }
        }
      },
      "cell_type": "code",
      "source": [
        "%matplotlib inline"
      ],
      "execution_count": 0,
      "outputs": []
    },
    {
      "metadata": {
        "id": "7ulgytZAJiq7",
        "colab_type": "code",
        "colab": {
          "autoexec": {
            "startup": false,
            "wait_interval": 0
          },
          "base_uri": "https://localhost:8080/",
          "height": 136
        },
        "outputId": "b35f07ff-d51c-4476-f657-f57dad45327d",
        "executionInfo": {
          "status": "ok",
          "timestamp": 1524197220373,
          "user_tz": -540,
          "elapsed": 3965,
          "user": {
            "displayName": "Takuma Yoneda",
            "photoUrl": "https://lh3.googleusercontent.com/a/default-user=s128",
            "userId": "102476675850688132450"
          }
        }
      },
      "cell_type": "code",
      "source": [
        "USING_COLAB = False\n",
        "try:\n",
        "    import google.colab\n",
        "    USING_COLAB = True\n",
        "    !rm *\n",
        "    !apt-get install python3.6-gdbm\n",
        "\n",
        "except ImportError:\n",
        "    pass"
      ],
      "execution_count": 38,
      "outputs": [
        {
          "output_type": "stream",
          "text": [
            "rm: cannot remove 'datalab': Is a directory\n",
            "Reading package lists... Done\n",
            "Building dependency tree       \n",
            "Reading state information... Done\n",
            "Note, selecting 'python3-gdbm' instead of 'python3.6-gdbm'\n",
            "python3-gdbm is already the newest version (3.6.3-0ubuntu1).\n",
            "0 upgraded, 0 newly installed, 0 to remove and 2 not upgraded.\n"
          ],
          "name": "stdout"
        }
      ]
    },
    {
      "metadata": {
        "id": "x5UUzkZT8ABi",
        "colab_type": "text"
      },
      "cell_type": "markdown",
      "source": [
        "### train.txt, devel.txt, test.txt, word2idx.dbをアップロード"
      ]
    },
    {
      "metadata": {
        "id": "lhyCM9Kh8XBI",
        "colab_type": "code",
        "colab": {
          "autoexec": {
            "startup": false,
            "wait_interval": 0
          },
          "resources": {
            "http://localhost:8080/nbextensions/google.colab/files.js": {
              "data": "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",
              "ok": true,
              "headers": [
                [
                  "content-type",
                  "application/javascript"
                ]
              ],
              "status": 200,
              "status_text": ""
            }
          },
          "base_uri": "https://localhost:8080/",
          "height": 35
        },
        "cellView": "code",
        "outputId": "e1127871-f92f-4bb9-ac03-eb969590c635",
        "executionInfo": {
          "status": "ok",
          "timestamp": 1524197226647,
          "user_tz": -540,
          "elapsed": 6235,
          "user": {
            "displayName": "Takuma Yoneda",
            "photoUrl": "https://lh3.googleusercontent.com/a/default-user=s128",
            "userId": "102476675850688132450"
          }
        }
      },
      "cell_type": "code",
      "source": [
        "if USING_COLAB:\n",
        "    from google.colab import files\n",
        "\n",
        "    uploaded = files.upload()\n",
        "\n",
        "    for fn in uploaded.keys():\n",
        "      print('User uploaded file \"{name}\" with length {length} bytes'.format(\n",
        "          name=fn, length=len(uploaded[fn])))"
      ],
      "execution_count": 39,
      "outputs": [
        {
          "output_type": "display_data",
          "data": {
            "text/html": [
              "\n",
              "     <input type=\"file\" id=\"files-4814a486-f6e5-4d1c-b33e-0744c933fecc\" name=\"files[]\" multiple disabled />\n",
              "     <output id=\"result-4814a486-f6e5-4d1c-b33e-0744c933fecc\">\n",
              "      Upload widget is only available when the cell has been executed in the\n",
              "      current browser session. Please rerun this cell to enable.\n",
              "      </output>\n",
              "      <script src=\"/nbextensions/google.colab/files.js\"></script> "
            ],
            "text/plain": [
              "<IPython.core.display.HTML object>"
            ]
          },
          "metadata": {
            "tags": []
          }
        }
      ]
    },
    {
      "metadata": {
        "id": "OiIpZdUc8bmi",
        "colab_type": "text"
      },
      "cell_type": "markdown",
      "source": [
        "### pytorchのインストール"
      ]
    },
    {
      "metadata": {
        "id": "XzzWoGD7tv3l",
        "colab_type": "code",
        "colab": {
          "autoexec": {
            "startup": false,
            "wait_interval": 0
          }
        }
      },
      "cell_type": "code",
      "source": [
        "if USING_COLAB:\n",
        "    try:\n",
        "      import torch\n",
        "    except ModuleNotFoundError:\n",
        "      # http://pytorch.org/\n",
        "      from os import path\n",
        "      from wheel.pep425tags import get_abbr_impl, get_impl_ver, get_abi_tag\n",
        "      platform = '{}{}-{}'.format(get_abbr_impl(), get_impl_ver(), get_abi_tag())\n",
        "\n",
        "      accelerator = 'cu80' if path.exists('/opt/bin/nvidia-smi') else 'cpu'\n",
        "\n",
        "      !pip install -q http://download.pytorch.org/whl/{accelerator}/torch-0.3.0.post4-{platform}-linux_x86_64.whl torchvision\n",
        "      import torch"
      ],
      "execution_count": 0,
      "outputs": []
    },
    {
      "metadata": {
        "id": "zdLqdwsgIg08",
        "colab_type": "text"
      },
      "cell_type": "markdown",
      "source": [
        "## pytorchのimportとモデルの定義\n",
        "参考:http://pytorch.org/tutorials/beginner/nlp/deep_learning_tutorial.html?highlight=logistic%20regression"
      ]
    },
    {
      "metadata": {
        "id": "ySiGNcXiAUrs",
        "colab_type": "code",
        "colab": {
          "autoexec": {
            "startup": false,
            "wait_interval": 0
          },
          "base_uri": "https://localhost:8080/",
          "height": 34
        },
        "outputId": "9c2e5987-4a1f-4d9b-c545-c4cdaee8eb92",
        "executionInfo": {
          "status": "ok",
          "timestamp": 1524196054778,
          "user_tz": -540,
          "elapsed": 488,
          "user": {
            "displayName": "Takuma Yoneda",
            "photoUrl": "https://lh3.googleusercontent.com/a/default-user=s128",
            "userId": "102476675850688132450"
          }
        }
      },
      "cell_type": "code",
      "source": [
        "# Author: Robert Guthrie\n",
        "\n",
        "import torch\n",
        "import torch.autograd as autograd\n",
        "import torch.nn as nn\n",
        "import torch.nn.functional as F\n",
        "import torch.optim as optim\n",
        "\n",
        "torch.manual_seed(1)"
      ],
      "execution_count": 11,
      "outputs": [
        {
          "output_type": "execute_result",
          "data": {
            "text/plain": [
              "<torch._C.Generator at 0x7f22c0994290>"
            ]
          },
          "metadata": {
            "tags": []
          },
          "execution_count": 11
        }
      ]
    },
    {
      "metadata": {
        "id": "PaVTVNOVAUr4",
        "colab_type": "code",
        "colab": {
          "autoexec": {
            "startup": false,
            "wait_interval": 0
          }
        }
      },
      "cell_type": "code",
      "source": [
        "class BoWClassifier(nn.Module):  # inheriting from nn.Module!\n",
        "\n",
        "    def __init__(self, num_labels, vocab_size):\n",
        "        # calls the init function of nn.Module.  Dont get confused by syntax,\n",
        "        # just always do it in an nn.Module\n",
        "        # ( super classのinit()を呼ぶ )\n",
        "        super(BoWClassifier, self).__init__()\n",
        "\n",
        "        # Define the parameters that you will need.  In this case, we need A and b,\n",
        "        # the parameters of the affine mapping.\n",
        "        # Torch defines nn.Linear(), which provides the affine map.\n",
        "        # Make sure you understand why the input dimension is vocab_size\n",
        "        # and the output is num_labels!\n",
        "        # (必要なパラメタの定義を行う)\n",
        "        self.linear = nn.Linear(vocab_size, num_labels)\n",
        "\n",
        "        # NOTE! The non-linearity log softmax does not have parameters! So we don't need\n",
        "        # to worry about that here\n",
        "\n",
        "    def forward(self, bow_vec):\n",
        "        # Pass the input through the linear layer,\n",
        "        # then pass that through log_softmax.\n",
        "        # Many non-linearities and other functions are in torch.nn.functional\n",
        "        return F.log_softmax(self.linear(bow_vec), dim=1)\n",
        "\n",
        "\n",
        "def make_bow_vector(sentence, word_to_ix):\n",
        "    vec = torch.zeros(len(word_to_ix))\n",
        "    for word in sentence:\n",
        "        vec[word_to_ix[word]] += 1\n",
        "    return vec.view(1, -1)\n",
        "\n",
        "\n",
        "def make_target(label, label_to_ix):\n",
        "    return torch.LongTensor([label_to_ix[label]])"
      ],
      "execution_count": 0,
      "outputs": []
    },
    {
      "metadata": {
        "id": "B0Xj9nJSIg1D",
        "colab_type": "text"
      },
      "cell_type": "markdown",
      "source": [
        "## 新しい関数の定義"
      ]
    },
    {
      "metadata": {
        "id": "qoXJi5eEgDYx",
        "colab_type": "code",
        "colab": {
          "autoexec": {
            "startup": false,
            "wait_interval": 0
          }
        }
      },
      "cell_type": "code",
      "source": [
        "def fvec2dic(fvec_str):\n",
        "  \"\"\"文字列である feature vector を，idxをkeyに持ち，valueに頻度を持つ辞書に変換\"\"\"\n",
        "  dic = {}\n",
        "  for idx2freq in fvec_str.strip().split():\n",
        "    idx, freq = idx2freq.split(\":\")\n",
        "    dic[int(idx)] = int(freq)\n",
        "  return dic\n",
        "\n",
        "def make_bow_vector2(line, n_words):\n",
        "    \"\"\"f_vec_str: '1:3 2:4 3:1 ... 654:1' \"\"\"\n",
        "    vec = torch.zeros(n_words)\n",
        "    _, fvec = line.strip().split(maxsplit=1)\n",
        "    for idx, freq in fvec2dic(fvec).items():\n",
        "        vec[idx - 1] = freq # idxは1から始まるので，-1が必要\n",
        "    return vec.view(1,-1)\n",
        "\n",
        "def make_target2(line):\n",
        "    label, _ = line.strip().split(maxsplit=1)\n",
        "    return torch.LongTensor([int(label)])"
      ],
      "execution_count": 0,
      "outputs": []
    },
    {
      "metadata": {
        "id": "XHys85UpIg1G",
        "colab_type": "text"
      },
      "cell_type": "markdown",
      "source": [
        "## ファイルの読み込み"
      ]
    },
    {
      "metadata": {
        "id": "whqS8VS-f9sJ",
        "colab_type": "code",
        "colab": {
          "autoexec": {
            "startup": false,
            "wait_interval": 0
          }
        }
      },
      "cell_type": "code",
      "source": [
        "# word_to_ix maps each word in the vocab to a unique integer, which will be its\n",
        "# index into the Bag of words vector\n",
        "import shelve\n",
        "word_to_ix = {}\n",
        "with shelve.open(\"word2idx.db\") as f:\n",
        "    for key, value in f.items():\n",
        "        word_to_ix[key] = value\n",
        "\n",
        "with open(\"test.txt\", \"r\") as f:\n",
        "    test_data = f.read().strip().split(\"\\n\")\n",
        "with open(\"devel.txt\", \"r\") as f:\n",
        "    devel_data =  f.read().strip().split(\"\\n\")\n",
        "with open(\"train.txt\", \"r\") as f:\n",
        "    train_data =  f.read().strip().split(\"\\n\")\n",
        "\n",
        "VOCAB_SIZE = len(word_to_ix)\n",
        "NUM_LABELS = 2"
      ],
      "execution_count": 0,
      "outputs": []
    },
    {
      "metadata": {
        "id": "_2UBnhYbPGXi",
        "colab_type": "code",
        "colab": {
          "autoexec": {
            "startup": false,
            "wait_interval": 0
          },
          "base_uri": "https://localhost:8080/",
          "height": 54
        },
        "outputId": "7039ca30-bad1-453b-d281-d1be577ffbfa",
        "executionInfo": {
          "status": "ok",
          "timestamp": 1524197288609,
          "user_tz": -540,
          "elapsed": 474,
          "user": {
            "displayName": "Takuma Yoneda",
            "photoUrl": "https://lh3.googleusercontent.com/a/default-user=s128",
            "userId": "102476675850688132450"
          }
        }
      },
      "cell_type": "code",
      "source": [
        "# よりスマートにもやれる\n",
        "\"\"\"\n",
        "train = torch.utils.data.TensorDataset(torch.from_numpy(Xtrain), torch.from_numpy(ytrain))\n",
        "train_loader = torch.utils.data.DataLoader(train, batch_size=100, shuffle=True)\n",
        "\n",
        "devel = torch.utils.data.TensorDataset(torch.from_numpy(Xdevel), torch.from_numpy(ydevel))\n",
        "devel_loader = torch.utils.data.DataLoader(devel, batch_size=100, shuffle=True)\n",
        "\n",
        "test = torch.utils.data.TensorDataset(torch.from_numpy(Xtest), torch.from_numpy(ytest))\n",
        "test_loader = torch.utils.data.DataLoader(test, batch_size=100, shuffle=True)\n",
        "\"\"\""
      ],
      "execution_count": 41,
      "outputs": [
        {
          "output_type": "execute_result",
          "data": {
            "text/plain": [
              "'\\ntrain = torch.utils.data.TensorDataset(torch.from_numpy(Xtrain), torch.from_numpy(ytrain))\\ntrain_loader = torch.utils.data.DataLoader(train, batch_size=100, shuffle=True)\\n\\ndevel = torch.utils.data.TensorDataset(torch.from_numpy(Xdevel), torch.from_numpy(ydevel))\\ndevel_loader = torch.utils.data.DataLoader(devel, batch_size=100, shuffle=True)\\n\\ntest = torch.utils.data.TensorDataset(torch.from_numpy(Xtest), torch.from_numpy(ytest))\\ntest_loader = torch.utils.data.DataLoader(test, batch_size=100, shuffle=True)\\n'"
            ]
          },
          "metadata": {
            "tags": []
          },
          "execution_count": 41
        }
      ]
    },
    {
      "metadata": {
        "id": "TUkcDZa7dY5Y",
        "colab_type": "code",
        "colab": {
          "autoexec": {
            "startup": false,
            "wait_interval": 0
          },
          "base_uri": "https://localhost:8080/",
          "height": 306
        },
        "outputId": "f7d3e789-97f1-4e03-dbf5-4e701d7379dd",
        "executionInfo": {
          "status": "ok",
          "timestamp": 1524196085810,
          "user_tz": -540,
          "elapsed": 473,
          "user": {
            "displayName": "Takuma Yoneda",
            "photoUrl": "https://lh3.googleusercontent.com/a/default-user=s128",
            "userId": "102476675850688132450"
          }
        }
      },
      "cell_type": "code",
      "source": [
        "model = BoWClassifier(NUM_LABELS, VOCAB_SIZE)\n",
        "\n",
        "# the model knows its parameters.  The first output below is A, the second is b.\n",
        "# Whenever you assign a component to a class variable in the __init__ function\n",
        "# of a module, which was done with the line\n",
        "# self.linear = nn.Linear(...)\n",
        "# Then through some Python magic from the Pytorch devs, your module\n",
        "# (in this case, BoWClassifier) will store knowledge of the nn.Linear's parameters\n",
        "for name, param in model.named_parameters():\n",
        "    print(name, param, sep=\"\\n\")\n",
        "\n",
        "# To run the model, pass in a BoW vector, but wrapped in an autograd.Variable\n",
        "sample = train_data[0]\n",
        "bow_vector = make_bow_vector2(sample, VOCAB_SIZE)\n",
        "log_probs = model(autograd.Variable(bow_vector))\n",
        "print(log_probs)"
      ],
      "execution_count": 15,
      "outputs": [
        {
          "output_type": "stream",
          "text": [
            "linear.weight\n",
            "Parameter containing:\n",
            " 2.3134e-03 -1.9817e-03 -8.7040e-04  ...   2.4336e-03 -9.8698e-04 -6.1097e-04\n",
            "-1.9158e-03 -4.9809e-04  4.1348e-03  ...   2.1656e-03 -2.2442e-03  3.8343e-03\n",
            "[torch.FloatTensor of size 2x49607]\n",
            "\n",
            "linear.bias\n",
            "Parameter containing:\n",
            "1.00000e-03 *\n",
            "  1.7290\n",
            "  2.9111\n",
            "[torch.FloatTensor of size 2]\n",
            "\n",
            "Variable containing:\n",
            "-0.5520 -0.8576\n",
            "[torch.FloatTensor of size 1x2]\n",
            "\n"
          ],
          "name": "stdout"
        }
      ]
    },
    {
      "metadata": {
        "id": "MjSZOwVuIg1P",
        "colab_type": "code",
        "colab": {
          "autoexec": {
            "startup": false,
            "wait_interval": 0
          },
          "base_uri": "https://localhost:8080/",
          "height": 187
        },
        "outputId": "f3ca1e12-3d66-422a-d8e6-07353341204e",
        "executionInfo": {
          "status": "ok",
          "timestamp": 1524197309437,
          "user_tz": -540,
          "elapsed": 597,
          "user": {
            "displayName": "Takuma Yoneda",
            "photoUrl": "https://lh3.googleusercontent.com/a/default-user=s128",
            "userId": "102476675850688132450"
          }
        }
      },
      "cell_type": "code",
      "source": [
        "# dev dataの先頭及び末尾5行に対してのpredictionを見てみる\n",
        "def peep_in_dev(verbose=False, use_cuda=False):\n",
        "    for line in devel_data[:5] + devel_data[-5:]:\n",
        "        if use_cuda:\n",
        "          log_probs = model(autograd.Variable(make_bow_vector2(line, VOCAB_SIZE)).cuda())\n",
        "        else:\n",
        "          log_probs = model(autograd.Variable(make_bow_vector2(line, VOCAB_SIZE)))\n",
        "        label = make_target2(line).tolist()[0]\n",
        "        pred = torch.max(log_probs, dim=1)[1].cpu().data.numpy()[0]\n",
        "        print(\"pred: {}\\tans: {}\".format(pred, label))\n",
        "        if verbose:\n",
        "            print(log_probs)\n",
        "peep_in_dev()"
      ],
      "execution_count": 42,
      "outputs": [
        {
          "output_type": "stream",
          "text": [
            "pred: 1\tans: 1\n",
            "pred: 1\tans: 1\n",
            "pred: 1\tans: 1\n",
            "pred: 0\tans: 1\n",
            "pred: 1\tans: 1\n",
            "pred: 0\tans: 0\n",
            "pred: 0\tans: 0\n",
            "pred: 1\tans: 0\n",
            "pred: 0\tans: 0\n",
            "pred: 0\tans: 0\n"
          ],
          "name": "stdout"
        }
      ]
    },
    {
      "metadata": {
        "id": "PJ2mPfQRIg1S",
        "colab_type": "text"
      },
      "cell_type": "markdown",
      "source": [
        "## 学習"
      ]
    },
    {
      "metadata": {
        "id": "uK6BbsWAAUr_",
        "colab_type": "code",
        "colab": {
          "autoexec": {
            "startup": false,
            "wait_interval": 0
          },
          "base_uri": "https://localhost:8080/",
          "height": 867
        },
        "outputId": "4c5dfdf5-9828-4acf-a348-f8a1e39adf92",
        "executionInfo": {
          "status": "ok",
          "timestamp": 1524196454088,
          "user_tz": -540,
          "elapsed": 179992,
          "user": {
            "displayName": "Takuma Yoneda",
            "photoUrl": "https://lh3.googleusercontent.com/a/default-user=s128",
            "userId": "102476675850688132450"
          }
        }
      },
      "cell_type": "code",
      "source": [
        "# from ipywidgets import FloatProgress\n",
        "# from IPython.display import display\n",
        "import random\n",
        "\n",
        "n_epochs = 50\n",
        "\n",
        "# progress barを出したいだけ\n",
        "# progress = FloatProgress(min=0, max=n_epochs) # instantiate the bar\n",
        "# display(progress) # display the bar\n",
        "\n",
        "loss_function = nn.NLLLoss()\n",
        "optimizer = optim.SGD(model.parameters(), lr=0.1)\n",
        "\n",
        "# 学習データをシャッフル\n",
        "random.shuffle(train_data)\n",
        "\n",
        "# Usually you want to pass over the training data several times.\n",
        "# 100 is much bigger than on a real data set, but real datasets have more than\n",
        "# two instances.  Usually, somewhere between 5 and 30 epochs is reasonable.\n",
        "model.cuda()\n",
        "for epoch in range(n_epochs):\n",
        "    if epoch % 10 == 0:\n",
        "        print(\"epoch {}/{}\".format(epoch, n_epochs))\n",
        "    # progress.value += 1\n",
        "    for line in train_data:\n",
        "        # Step 1. Remember that Pytorch accumulates gradients.\n",
        "        # We need to clear them out before each instance\n",
        "        model.zero_grad()\n",
        "\n",
        "        # Step 2. Make our BOW vector and also we must wrap the target in a\n",
        "        # Variable as an integer. For example, if the target is SPANISH, then\n",
        "        # we wrap the integer 0. The loss function then knows that the 0th\n",
        "        # element of the log probabilities is the log probability\n",
        "        # corresponding to SPANISH\n",
        "        bow_vec = autograd.Variable(make_bow_vector2(line, VOCAB_SIZE))\n",
        "        target = autograd.Variable(make_target2(line))\n",
        "\n",
        "        # Step 3. Run our forward pass.\n",
        "        log_prob = model(bow_vec.cuda())\n",
        "\n",
        "        # Step 4. Compute the loss, gradients, and update the parameters by\n",
        "        # calling optimizer.step()\n",
        "        loss = loss_function(log_prob, target.cuda())\n",
        "        loss.backward()\n",
        "        optimizer.step()"
      ],
      "execution_count": 20,
      "outputs": [
        {
          "output_type": "stream",
          "text": [
            "epoch 0/50\n",
            "epoch 1/50\n",
            "epoch 2/50\n",
            "epoch 3/50\n",
            "epoch 4/50\n",
            "epoch 5/50\n",
            "epoch 6/50\n",
            "epoch 7/50\n",
            "epoch 8/50\n",
            "epoch 9/50\n",
            "epoch 10/50\n",
            "epoch 11/50\n",
            "epoch 12/50\n",
            "epoch 13/50\n",
            "epoch 14/50\n",
            "epoch 15/50\n",
            "epoch 16/50\n",
            "epoch 17/50\n",
            "epoch 18/50\n",
            "epoch 19/50\n",
            "epoch 20/50\n",
            "epoch 21/50\n",
            "epoch 22/50\n",
            "epoch 23/50\n",
            "epoch 24/50\n",
            "epoch 25/50\n",
            "epoch 26/50\n",
            "epoch 27/50\n",
            "epoch 28/50\n",
            "epoch 29/50\n",
            "epoch 30/50\n",
            "epoch 31/50\n",
            "epoch 32/50\n",
            "epoch 33/50\n",
            "epoch 34/50\n",
            "epoch 35/50\n",
            "epoch 36/50\n",
            "epoch 37/50\n",
            "epoch 38/50\n",
            "epoch 39/50\n",
            "epoch 40/50\n",
            "epoch 41/50\n",
            "epoch 42/50\n",
            "epoch 43/50\n",
            "epoch 44/50\n",
            "epoch 45/50\n",
            "epoch 46/50\n",
            "epoch 47/50\n",
            "epoch 48/50\n",
            "epoch 49/50\n"
          ],
          "name": "stdout"
        }
      ]
    },
    {
      "metadata": {
        "id": "15gwu_CgIg1X",
        "colab_type": "code",
        "colab": {
          "autoexec": {
            "startup": false,
            "wait_interval": 0
          },
          "base_uri": "https://localhost:8080/",
          "height": 867
        },
        "outputId": "17f9165b-98cd-48c1-8dcb-5598b0382305",
        "executionInfo": {
          "status": "ok",
          "timestamp": 1524196933435,
          "user_tz": -540,
          "elapsed": 492,
          "user": {
            "displayName": "Takuma Yoneda",
            "photoUrl": "https://lh3.googleusercontent.com/a/default-user=s128",
            "userId": "102476675850688132450"
          }
        }
      },
      "cell_type": "code",
      "source": [
        "peep_in_dev(verbose=True, use_cuda=True)"
      ],
      "execution_count": 25,
      "outputs": [
        {
          "output_type": "stream",
          "text": [
            "pred: 1\tans: 1\n",
            "Variable containing:\n",
            "-1031.9666     0.0000\n",
            "[torch.cuda.FloatTensor of size 1x2 (GPU 0)]\n",
            "\n",
            "pred: 1\tans: 1\n",
            "Variable containing:\n",
            "-472.7870    0.0000\n",
            "[torch.cuda.FloatTensor of size 1x2 (GPU 0)]\n",
            "\n",
            "pred: 1\tans: 1\n",
            "Variable containing:\n",
            "-291.0772    0.0000\n",
            "[torch.cuda.FloatTensor of size 1x2 (GPU 0)]\n",
            "\n",
            "pred: 0\tans: 1\n",
            "Variable containing:\n",
            "   0.0000 -102.4945\n",
            "[torch.cuda.FloatTensor of size 1x2 (GPU 0)]\n",
            "\n",
            "pred: 1\tans: 1\n",
            "Variable containing:\n",
            "-339.0583    0.0000\n",
            "[torch.cuda.FloatTensor of size 1x2 (GPU 0)]\n",
            "\n",
            "pred: 0\tans: 0\n",
            "Variable containing:\n",
            "   0.0000 -464.7249\n",
            "[torch.cuda.FloatTensor of size 1x2 (GPU 0)]\n",
            "\n",
            "pred: 0\tans: 0\n",
            "Variable containing:\n",
            "    0.0000 -1586.5566\n",
            "[torch.cuda.FloatTensor of size 1x2 (GPU 0)]\n",
            "\n",
            "pred: 1\tans: 0\n",
            "Variable containing:\n",
            "-513.5421    0.0000\n",
            "[torch.cuda.FloatTensor of size 1x2 (GPU 0)]\n",
            "\n",
            "pred: 0\tans: 0\n",
            "Variable containing:\n",
            "-0.4282 -1.0547\n",
            "[torch.cuda.FloatTensor of size 1x2 (GPU 0)]\n",
            "\n",
            "pred: 0\tans: 0\n",
            "Variable containing:\n",
            "   0.0000 -179.0793\n",
            "[torch.cuda.FloatTensor of size 1x2 (GPU 0)]\n",
            "\n"
          ],
          "name": "stdout"
        }
      ]
    },
    {
      "metadata": {
        "id": "82wNUocOJe5o",
        "colab_type": "code",
        "colab": {
          "autoexec": {
            "startup": false,
            "wait_interval": 0
          }
        }
      },
      "cell_type": "code",
      "source": [
        "my_review01 = \"this movie was great . \\n i felt so happy to be able to watch it . \"\n",
        "my_review02 = \"this movie was boring bad obscure sad dislike hate unrealistic outdated . \""
      ],
      "execution_count": 0,
      "outputs": []
    },
    {
      "metadata": {
        "id": "5b_WXTupKHMP",
        "colab_type": "code",
        "colab": {
          "autoexec": {
            "startup": false,
            "wait_interval": 0
          }
        }
      },
      "cell_type": "code",
      "source": [
        "def fscore(preds, labels):\n",
        "  tp, fp, fn = [0,0,0]\n",
        "  for pred, label in zip(preds, labels):\n",
        "    if pred == 1:\n",
        "      if label == 1:\n",
        "        tp +=1\n",
        "      else:\n",
        "        fp +=1\n",
        "    if label == 1 and pred == 0:\n",
        "      fn +=1\n",
        "  precision = tp/(tp+fp) if tp+fp != 0 else 0\n",
        "  recall = tp/(tp+fn) if tp+fn !=0 else 0\n",
        "  fscore = 2*precision*recall/(recall+precision) if recall + precision != 0 else 0\n",
        "  return precision, recall, fscore"
      ],
      "execution_count": 0,
      "outputs": []
    },
    {
      "metadata": {
        "id": "3E_sFCGEIg1e",
        "colab_type": "code",
        "colab": {
          "autoexec": {
            "startup": false,
            "wait_interval": 0
          },
          "base_uri": "https://localhost:8080/",
          "height": 68
        },
        "outputId": "7adb011d-01d8-43ca-dd24-a28545b48314",
        "executionInfo": {
          "status": "ok",
          "timestamp": 1524197060224,
          "user_tz": -540,
          "elapsed": 499,
          "user": {
            "displayName": "Takuma Yoneda",
            "photoUrl": "https://lh3.googleusercontent.com/a/default-user=s128",
            "userId": "102476675850688132450"
          }
        }
      },
      "cell_type": "code",
      "source": [
        "model.cpu()\n",
        "preds, labels = [], []\n",
        "for line in devel_data:\n",
        "    log_prob = model(autograd.Variable(make_bow_vector2(line, VOCAB_SIZE)))\n",
        "\n",
        "    label = make_target2(line).tolist()[0]\n",
        "    \n",
        "    preds.append(torch.max(log_prob, dim=1)[1].cpu().data.numpy()[0])\n",
        "    labels.append(label)\n",
        "pre, rec, f1 = fscore(preds, labels)\n",
        "print(\"precision:{:.4f}\\nrecall:{:.4f}\\nf-measure:{:.4f}\".format(pre, rec, f1))"
      ],
      "execution_count": 32,
      "outputs": [
        {
          "output_type": "stream",
          "text": [
            "precision:0.7500\n",
            "recall:0.8100\n",
            "f-measure:0.7788\n"
          ],
          "name": "stdout"
        }
      ]
    },
    {
      "metadata": {
        "id": "Amgcqi_pIg1h",
        "colab_type": "code",
        "colab": {
          "autoexec": {
            "startup": false,
            "wait_interval": 0
          },
          "base_uri": "https://localhost:8080/",
          "height": 68
        },
        "outputId": "58fcc31a-71cf-4614-a581-796822fcba55",
        "executionInfo": {
          "status": "ok",
          "timestamp": 1524197061506,
          "user_tz": -540,
          "elapsed": 650,
          "user": {
            "displayName": "Takuma Yoneda",
            "photoUrl": "https://lh3.googleusercontent.com/a/default-user=s128",
            "userId": "102476675850688132450"
          }
        }
      },
      "cell_type": "code",
      "source": [
        "from sklearn.metrics import precision_score, recall_score, f1_score\n",
        "def sk_fscore(labels, preds):\n",
        "    assert len(labels) == len(preds)\n",
        "    pre, rec, f1 = precision_score(labels, preds), recall_score(labels, preds), f1_score(labels, preds)\n",
        "    return pre, rec, f1\n",
        "pre, rec, f1 = sk_fscore(labels, preds)\n",
        "print(\"precision:{:.4f}\\nrecall:{:.4f}\\nf-measure:{:.4f}\".format(pre, rec, f1))"
      ],
      "execution_count": 33,
      "outputs": [
        {
          "output_type": "stream",
          "text": [
            "precision:0.7500\n",
            "recall:0.8100\n",
            "f-measure:0.7788\n"
          ],
          "name": "stdout"
        }
      ]
    },
    {
      "metadata": {
        "id": "drCIYaMMIg1k",
        "colab_type": "code",
        "colab": {
          "autoexec": {
            "startup": false,
            "wait_interval": 0
          }
        }
      },
      "cell_type": "code",
      "source": [
        "import numpy as np\n",
        "from sklearn.linear_model import LogisticRegression\n",
        "lr = LogisticRegression()\n",
        "\n",
        "train_bow = [make_bow_vector2(line, VOCAB_SIZE).tolist()[0] for line in train_data]\n",
        "train_labels = [make_target2(line).tolist()[0] for line in train_data]\n",
        "devel_bow = [make_bow_vector2(line, VOCAB_SIZE).tolist()[0] for line in devel_data]\n",
        "devel_labels = [make_target2(line).tolist()[0] for line in devel_data]\n",
        "\n",
        "# lr.fit(trainbow, trainlabel)\n"
      ],
      "execution_count": 0,
      "outputs": []
    },
    {
      "metadata": {
        "id": "9Cb-9NzwIg1l",
        "colab_type": "code",
        "colab": {
          "autoexec": {
            "startup": false,
            "wait_interval": 0
          }
        }
      },
      "cell_type": "code",
      "source": [
        "lr.fit(train_bow, train_labels)\n",
        "pred = lr.predict(devel_bow)"
      ],
      "execution_count": 0,
      "outputs": []
    },
    {
      "metadata": {
        "id": "lXiuUN72Ig1m",
        "colab_type": "code",
        "colab": {
          "autoexec": {
            "startup": false,
            "wait_interval": 0
          },
          "base_uri": "https://localhost:8080/",
          "height": 68
        },
        "outputId": "dcd77c11-6dae-4233-a1aa-4c9c4a9bef59",
        "executionInfo": {
          "status": "ok",
          "timestamp": 1524197109938,
          "user_tz": -540,
          "elapsed": 618,
          "user": {
            "displayName": "Takuma Yoneda",
            "photoUrl": "https://lh3.googleusercontent.com/a/default-user=s128",
            "userId": "102476675850688132450"
          }
        }
      },
      "cell_type": "code",
      "source": [
        "pre, rec, f1 = sk_fscore(devel_labels, pred)\n",
        "print(\"precision:{:.4f}\\nrecall:{:.4f}\\nf-measure:{:.4f}\".format(pre, rec, f1))"
      ],
      "execution_count": 36,
      "outputs": [
        {
          "output_type": "stream",
          "text": [
            "precision:0.7636\n",
            "recall:0.8400\n",
            "f-measure:0.8000\n"
          ],
          "name": "stdout"
        }
      ]
    }
  ]
}